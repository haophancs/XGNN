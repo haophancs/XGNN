{
 "cells": [
  {
   "cell_type": "markdown",
   "metadata": {
    "id": "n0soKTmYNKft"
   },
   "source": [
    "# Graph generator"
   ]
  },
  {
   "cell_type": "markdown",
   "metadata": {
    "id": "5T6KDrYxJdDU"
   },
   "source": [
    "<h2> Model"
   ]
  },
  {
   "cell_type": "code",
   "execution_count": 2,
   "metadata": {
    "id": "D342EJmwFdZ5"
   },
   "outputs": [
    {
     "name": "stderr",
     "output_type": "stream",
     "text": [
      "<>:139: SyntaxWarning: \"is not\" with a literal. Did you mean \"!=\"?\n",
      "<>:139: SyntaxWarning: \"is not\" with a literal. Did you mean \"!=\"?\n",
      "<ipython-input-2-523d2e5c7d35>:139: SyntaxWarning: \"is not\" with a literal. Did you mean \"!=\"?\n",
      "  if d is not 0:\n"
     ]
    }
   ],
   "source": [
    "from torch.nn.modules.module import Module\n",
    "from torch.nn import Linear\n",
    "from torch.nn import ReLU6\n",
    "from torch.nn import Sequential\n",
    "import random\n",
    "\n",
    "import copy\n",
    "\n",
    "MAX_NUM_NODES = 28 # for mutag\n",
    "random.seed(200)\n",
    "\n",
    "# import GCN (later when using python file)\n",
    "\n",
    "class Generator(Module):\n",
    "    def __init__(self, \n",
    "                 C: list,\n",
    "                 c=0,\n",
    "                 hyp1=1, \n",
    "                 hyp2=2, \n",
    "                 start=None,\n",
    "                 nfeat=7,\n",
    "                 dropout=0.1):\n",
    "        \"\"\" \n",
    "        :param C: Candidate set of nodes (list)\n",
    "        :param start: Starting node (defaults to randomised node)\n",
    "        \"\"\"\n",
    "        super(Generator, self).__init__()\n",
    "\n",
    "        self.nfeat = nfeat\n",
    "        self.dropout = dropout\n",
    "        self.c = c\n",
    "\n",
    "        self.fc = Linear(nfeat, 8)\n",
    "        self.gc1 = GraphConvolution(8, 16)\n",
    "        self.gc2 = GraphConvolution(16, 24)\n",
    "        self.gc3 = GraphConvolution(24, 32)\n",
    "\n",
    "        # MLP1\n",
    "        # 2 FC layers with hidden dimension 16\n",
    "        self.mlp1 = Sequential(Linear(32, 16),\n",
    "                               Linear(16, 1))\n",
    "\n",
    "        # MLP2\n",
    "        # 2 FC layers with hidden dimension 24\n",
    "        self.mlp2 = Sequential(Linear(64, 24),\n",
    "                               Linear(24, 1))\n",
    "\n",
    "        # Hyperparameters\n",
    "        self.hyp1 = hyp1\n",
    "        self.hyp2 = hyp2\n",
    "        self.candidate_set = C\n",
    "        \n",
    "        # Default starting node (if any)\n",
    "        if start is not None:\n",
    "          self.start = start\n",
    "          self.random_start = False\n",
    "        else:\n",
    "          self.start = random.choice(np.arange(0, len(self.candidate_set)))\n",
    "          self.random_start = True\n",
    "\n",
    "        # Load GCN for calculating reward\n",
    "        self.model = GCN(nfeat=features_list[0].shape[1],\n",
    "                         nclass=labels.max().item() + 1,\n",
    "                         dropout=args.dropout)\n",
    "        \n",
    "        self.model.load_state_dict(torch.load(PATH))\n",
    "        for param in self.model.parameters():\n",
    "          param.requires_grad = False\n",
    "\n",
    "        self.reset_graph()\n",
    "        \n",
    "    def reset_graph(self):\n",
    "        \"\"\"\n",
    "        Reset g.G to default graph with only start node\n",
    "        \"\"\"\n",
    "        if self.random_start == True:\n",
    "            self.start = random.choice(np.arange(0, len(self.candidate_set)))\n",
    "\n",
    "        mask_start = torch.BoolTensor([False if i == 0 else True for i in range(MAX_NUM_NODES + len(self.candidate_set))])\n",
    "        \n",
    "        adj = torch.zeros((MAX_NUM_NODES + len(self.candidate_set), MAX_NUM_NODES + len(self.candidate_set)), dtype=torch.float32)\n",
    "\n",
    "        feat = torch.zeros((MAX_NUM_NODES + len(self.candidate_set), len(self.candidate_set)), dtype=torch.float32)\n",
    "        feat[0, self.start] = 1\n",
    "        feat[np.arange(-len(self.candidate_set), 0), np.arange(0, len(self.candidate_set))] = 1\n",
    "\n",
    "        degrees = torch.zeros(MAX_NUM_NODES)\n",
    "\n",
    "        self.G = {'adj': adj, 'feat': feat, 'degrees': degrees, 'num_nodes': 1, 'mask_start': mask_start}\n",
    "\n",
    "    def calculate_loss(self, Rt, p_start, a_start, p_end, a_end, G_t_1):\n",
    "        \"\"\"\n",
    "        Calculated from cross entropy loss (Lce) and reward function (Rt)\n",
    "        where loss = -Rt*(Lce_start + Lce_end)\n",
    "        \"\"\"\n",
    "\n",
    "        Lce_start = F.cross_entropy(torch.reshape(p_start, (1, 35)), a_start.unsqueeze(0))\n",
    "        Lce_end = F.cross_entropy(torch.reshape(p_end, (1, 35)), a_end.unsqueeze(0))\n",
    "\n",
    "        return -Rt*(Lce_start + Lce_end)\n",
    "\n",
    "    def calculate_reward(self, G_t_1):\n",
    "        \"\"\"\n",
    "        Rtr     Calculated from graph rules to encourage generated graphs to be valid\n",
    "                1. Only one edge to be added between any two nodes\n",
    "                2. Generated graph cannot contain more nodes than predefined maximum node number\n",
    "                3. (For chemical) Degree cannot exceed valency\n",
    "                If generated graph violates graph rule, Rtr = -1\n",
    "\n",
    "        Rtf     Feedback from trained model\n",
    "        \"\"\"\n",
    "\n",
    "        rtr = self.check_graph_rules(G_t_1)\n",
    "\n",
    "        rtf = self.calculate_reward_feedback(G_t_1)\n",
    "        rtf_sum = 0\n",
    "        for m in range(rollout):\n",
    "            p_start, a_start, p_end, a_end, G_t_1 = self.forward(G_t_1)\n",
    "            rtf_sum += self.calculate_reward_feedback(G_t_1)\n",
    "        rtf = rtf + rtf_sum * self.hyp1 / rollout\n",
    "\n",
    "        return rtf + self.hyp2 * rtr\n",
    "\n",
    "    def calculate_reward_feedback(self, G_t_1):\n",
    "        \"\"\"\n",
    "        p(f(G_t_1) = c) - 1/l\n",
    "        where l denotes number of possible classes for f\n",
    "        \"\"\"\n",
    "        f = self.model(G_t_1['feat'], G_t_1['adj'], None)\n",
    "        return f[self.c] - 1/len(f)\n",
    "\n",
    "    def check_graph_rules(self, G_t_1):\n",
    "        \"\"\"\n",
    "        For mutag, node degrees cannot exceed valency\n",
    "        \"\"\"\n",
    "        idx = 0\n",
    "\n",
    "        for d in G_t_1['degrees']:\n",
    "          if d is not 0:\n",
    "            node_id = torch.argmax(G_t_1['feat'][idx]) # Eg. [0, 1, 0, 0] -> 1\n",
    "            node = self.candidate_set[node_id]  # Eg ['C.4', 'F.2', 'Br.7'][1] = 'F.2'\n",
    "            max_valency = int(node.split('.')[1]) # Eg. C.4 -> ['C', '4'] -> 4\n",
    "\n",
    "            # If any node degree exceeds its valency, return -1\n",
    "            if max_valency < d:\n",
    "                return -1\n",
    "\n",
    "        return 0\n",
    "        \n",
    "    def forward(self, G_in):\n",
    "        G = copy.deepcopy(G_in)\n",
    "\n",
    "        x = G['feat'].detach().clone()\n",
    "        adj = G['adj'].detach().clone()\n",
    "\n",
    "        x = F.relu6(self.fc(x))\n",
    "        x = F.dropout(x, self.dropout, training=self.training)\n",
    "        x = F.relu6(self.gc1(x, adj))\n",
    "        x = F.dropout(x, self.dropout, training=self.training)\n",
    "        x = F.relu6(self.gc2(x, adj))\n",
    "        x = F.dropout(x, self.dropout, training=self.training)\n",
    "        x = F.relu6(self.gc3(x, adj))\n",
    "        x = F.dropout(x, self.dropout, training=self.training)\n",
    "\n",
    "        p_start = self.mlp1(x)\n",
    "        p_start = p_start.masked_fill(G['mask_start'].unsqueeze(1), 0)\n",
    "        p_start = F.softmax(p_start, dim=0)\n",
    "        a_start_idx = torch.argmax(p_start.masked_fill(G['mask_start'].unsqueeze(1), -1))\n",
    "        \n",
    "        # broadcast\n",
    "        x1, x2 = torch.broadcast_tensors(x, x[a_start_idx])\n",
    "        x = torch.cat((x1, x2), 1) # cat increases dim from 32 to 64\n",
    "\n",
    "        mask_end = torch.BoolTensor([True for i in range(MAX_NUM_NODES + len(self.candidate_set))])\n",
    "        mask_end[MAX_NUM_NODES:] = False\n",
    "        mask_end[:G['num_nodes']] = False\n",
    "        mask_end[a_start_idx] = True\n",
    "\n",
    "        p_end = self.mlp2(x)\n",
    "        p_end = p_end.masked_fill(mask_end.unsqueeze(1), 0)\n",
    "        p_end = F.softmax(p_end, dim=0)\n",
    "        a_end_idx = torch.argmax(p_end.masked_fill(mask_end.unsqueeze(1), -1))\n",
    "\n",
    "        # Return new G\n",
    "        # If a_end_idx is not masked, node exists in graph, no new node added\n",
    "        if G['mask_start'][a_end_idx] == False:\n",
    "            G['adj'][a_end_idx][a_start_idx] += 1\n",
    "            G['adj'][a_start_idx][a_end_idx] += 1\n",
    "            \n",
    "            # Update degrees\n",
    "            G['degrees'][a_start_idx] += 1\n",
    "            G['degrees'][G['num_nodes']] += 1\n",
    "        else:\n",
    "            # Add node\n",
    "            G['feat'][G['num_nodes']] = G['feat'][a_end_idx]\n",
    "            # Add edge\n",
    "            G['adj'][G['num_nodes']][a_start_idx] += 1\n",
    "            G['adj'][a_start_idx][G['num_nodes']] += 1\n",
    "            # Update degrees\n",
    "            G['degrees'][a_start_idx] += 1\n",
    "            G['degrees'][G['num_nodes']] += 1\n",
    "\n",
    "            # Update start mask\n",
    "            G_mask_start_copy = G['mask_start'].detach().clone()\n",
    "            G_mask_start_copy[G['num_nodes']] = False\n",
    "            G['mask_start'] = G_mask_start_copy\n",
    "            \n",
    "            G['num_nodes'] += 1\n",
    "\n",
    "        return p_start, a_start_idx, p_end, a_end_idx, G"
   ]
  },
  {
   "cell_type": "code",
   "execution_count": 3,
   "metadata": {
    "id": "phoYQYmlSw75"
   },
   "outputs": [],
   "source": [
    "rollout = 10\n",
    "max_gen_step = 10"
   ]
  },
  {
   "cell_type": "code",
   "execution_count": 4,
   "metadata": {
    "id": "LMDgOdT4pmj9"
   },
   "outputs": [
    {
     "ename": "NameError",
     "evalue": "name 'GraphConvolution' is not defined",
     "output_type": "error",
     "traceback": [
      "\u001b[0;31m---------------------------------------------------------------------------\u001b[0m",
      "\u001b[0;31mNameError\u001b[0m                                 Traceback (most recent call last)",
      "\u001b[0;32m<ipython-input-4-ee1dbefe3741>\u001b[0m in \u001b[0;36m<module>\u001b[0;34m\u001b[0m\n\u001b[1;32m      6\u001b[0m \u001b[0;34m\u001b[0m\u001b[0m\n\u001b[1;32m      7\u001b[0m \u001b[0mcandidate_set\u001b[0m \u001b[0;34m=\u001b[0m \u001b[0;34m[\u001b[0m\u001b[0;34m'C.4'\u001b[0m\u001b[0;34m,\u001b[0m \u001b[0;34m'N.5'\u001b[0m\u001b[0;34m,\u001b[0m \u001b[0;34m'O.2'\u001b[0m\u001b[0;34m,\u001b[0m \u001b[0;34m'F.1'\u001b[0m\u001b[0;34m,\u001b[0m \u001b[0;34m'I.7'\u001b[0m\u001b[0;34m,\u001b[0m \u001b[0;34m'Cl.7'\u001b[0m\u001b[0;34m,\u001b[0m \u001b[0;34m'Br.5'\u001b[0m\u001b[0;34m]\u001b[0m\u001b[0;34m\u001b[0m\u001b[0;34m\u001b[0m\u001b[0m\n\u001b[0;32m----> 8\u001b[0;31m \u001b[0mg\u001b[0m \u001b[0;34m=\u001b[0m \u001b[0mGenerator\u001b[0m\u001b[0;34m(\u001b[0m\u001b[0mcandidate_set\u001b[0m\u001b[0;34m,\u001b[0m \u001b[0mc\u001b[0m\u001b[0;34m=\u001b[0m\u001b[0;36m0\u001b[0m\u001b[0;34m,\u001b[0m \u001b[0mstart\u001b[0m\u001b[0;34m=\u001b[0m\u001b[0;36m0\u001b[0m\u001b[0;34m)\u001b[0m\u001b[0;34m\u001b[0m\u001b[0;34m\u001b[0m\u001b[0m\n\u001b[0m\u001b[1;32m      9\u001b[0m \u001b[0moptimizer\u001b[0m \u001b[0;34m=\u001b[0m \u001b[0moptim\u001b[0m\u001b[0;34m.\u001b[0m\u001b[0mAdam\u001b[0m\u001b[0;34m(\u001b[0m\u001b[0mg\u001b[0m\u001b[0;34m.\u001b[0m\u001b[0mparameters\u001b[0m\u001b[0;34m(\u001b[0m\u001b[0;34m)\u001b[0m\u001b[0;34m,\u001b[0m \u001b[0mlr\u001b[0m\u001b[0;34m=\u001b[0m\u001b[0margs\u001b[0m\u001b[0;34m.\u001b[0m\u001b[0mlr\u001b[0m\u001b[0;34m,\u001b[0m \u001b[0mbetas\u001b[0m\u001b[0;34m=\u001b[0m\u001b[0;34m(\u001b[0m\u001b[0margs\u001b[0m\u001b[0;34m.\u001b[0m\u001b[0mb1\u001b[0m\u001b[0;34m,\u001b[0m \u001b[0margs\u001b[0m\u001b[0;34m.\u001b[0m\u001b[0mb2\u001b[0m\u001b[0;34m)\u001b[0m\u001b[0;34m)\u001b[0m\u001b[0;34m\u001b[0m\u001b[0;34m\u001b[0m\u001b[0m\n",
      "\u001b[0;32m<ipython-input-2-523d2e5c7d35>\u001b[0m in \u001b[0;36m__init__\u001b[0;34m(self, C, c, hyp1, hyp2, start, nfeat, dropout)\u001b[0m\n\u001b[1;32m     32\u001b[0m \u001b[0;34m\u001b[0m\u001b[0m\n\u001b[1;32m     33\u001b[0m         \u001b[0mself\u001b[0m\u001b[0;34m.\u001b[0m\u001b[0mfc\u001b[0m \u001b[0;34m=\u001b[0m \u001b[0mLinear\u001b[0m\u001b[0;34m(\u001b[0m\u001b[0mnfeat\u001b[0m\u001b[0;34m,\u001b[0m \u001b[0;36m8\u001b[0m\u001b[0;34m)\u001b[0m\u001b[0;34m\u001b[0m\u001b[0;34m\u001b[0m\u001b[0m\n\u001b[0;32m---> 34\u001b[0;31m         \u001b[0mself\u001b[0m\u001b[0;34m.\u001b[0m\u001b[0mgc1\u001b[0m \u001b[0;34m=\u001b[0m \u001b[0mGraphConvolution\u001b[0m\u001b[0;34m(\u001b[0m\u001b[0;36m8\u001b[0m\u001b[0;34m,\u001b[0m \u001b[0;36m16\u001b[0m\u001b[0;34m)\u001b[0m\u001b[0;34m\u001b[0m\u001b[0;34m\u001b[0m\u001b[0m\n\u001b[0m\u001b[1;32m     35\u001b[0m         \u001b[0mself\u001b[0m\u001b[0;34m.\u001b[0m\u001b[0mgc2\u001b[0m \u001b[0;34m=\u001b[0m \u001b[0mGraphConvolution\u001b[0m\u001b[0;34m(\u001b[0m\u001b[0;36m16\u001b[0m\u001b[0;34m,\u001b[0m \u001b[0;36m24\u001b[0m\u001b[0;34m)\u001b[0m\u001b[0;34m\u001b[0m\u001b[0;34m\u001b[0m\u001b[0m\n\u001b[1;32m     36\u001b[0m         \u001b[0mself\u001b[0m\u001b[0;34m.\u001b[0m\u001b[0mgc3\u001b[0m \u001b[0;34m=\u001b[0m \u001b[0mGraphConvolution\u001b[0m\u001b[0;34m(\u001b[0m\u001b[0;36m24\u001b[0m\u001b[0;34m,\u001b[0m \u001b[0;36m32\u001b[0m\u001b[0;34m)\u001b[0m\u001b[0;34m\u001b[0m\u001b[0;34m\u001b[0m\u001b[0m\n",
      "\u001b[0;31mNameError\u001b[0m: name 'GraphConvolution' is not defined"
     ]
    }
   ],
   "source": [
    "args.lr = 0.01\n",
    "args.b1 = 0.9\n",
    "args.b2 = 0.99\n",
    "args.hyp1 = 1\n",
    "args.hyp2 = 2\n",
    "\n",
    "candidate_set = ['C.4', 'N.5', 'O.2', 'F.1', 'I.7', 'Cl.7', 'Br.5']\n",
    "g = Generator(candidate_set, c=0, start=0)\n",
    "optimizer = optim.Adam(g.parameters(), lr=args.lr, betas=(args.b1, args.b2))"
   ]
  },
  {
   "cell_type": "code",
   "execution_count": null,
   "metadata": {
    "id": "R66u9R5WFzGY"
   },
   "outputs": [],
   "source": [
    "def train_generator(c=0, \n",
    "                    initial_node=None,\n",
    "                    max_nodes=5):\n",
    "  g.c = c\n",
    "\n",
    "  for i in range(max_gen_step):\n",
    "\n",
    "    optimizer.zero_grad()\n",
    "    G = copy.deepcopy(g.G)\n",
    "    p_start, a_start, p_end, a_end, G = g.forward(G)\n",
    "\n",
    "    Rt = g.calculate_reward(G)\n",
    "    loss = g.calculate_loss(Rt, p_start, a_start, p_end, a_end, G)\n",
    "    loss.backward()\n",
    "    optimizer.step()\n",
    "\n",
    "    if G['num_nodes'] > max_nodes:\n",
    "      g.reset_graph()\n",
    "    elif Rt > 0:\n",
    "      g.G = G\n",
    "\n",
    "def generate_graph(c=0, max_nodes=5):\n",
    "  g.c = c\n",
    "  g.reset_graph()\n",
    "\n",
    "  for i in range(max_gen_step):\n",
    "    G = copy.deepcopy(g.G)\n",
    "    p_start, a_start, p_end, a_end, G = g.forward(G)\n",
    "    Rt = g.calculate_reward(G)\n",
    "\n",
    "    if G['num_nodes'] > max_nodes:\n",
    "      return g.G\n",
    "    elif Rt > 0:\n",
    "      g.G = G\n",
    "    \n",
    "  return g.G"
   ]
  },
  {
   "cell_type": "markdown",
   "metadata": {
    "id": "rURRIXGoK0Hb"
   },
   "source": [
    "Visualizing graph"
   ]
  },
  {
   "cell_type": "code",
   "execution_count": null,
   "metadata": {
    "id": "bfVsy8X-Ab1a"
   },
   "outputs": [],
   "source": [
    "import networkx as nx\n",
    "import matplotlib.pyplot as plt\n",
    "\n",
    "def display_graph(G):\n",
    "  G_nx = nx.from_numpy_matrix(np.asmatrix(G['adj'][:G['num_nodes'], :G['num_nodes']].numpy()))\n",
    "  # nx.draw_networkx(G_nx)\n",
    "\n",
    "  layout=nx.spring_layout(G_nx)\n",
    "  nx.draw(G_nx, layout)\n",
    "\n",
    "  coloring=torch.argmax(G['feat'],1)\n",
    "  colors=['b','g','r','c','m','y','k']\n",
    "\n",
    "  for i in range(7):\n",
    "    nx.draw_networkx_nodes(G_nx,pos=layout,nodelist=[x for x in G_nx.nodes() if coloring[x]==i],node_color=colors[i])\n",
    "    nx.draw_networkx_labels(G_nx,pos=layout,labels={x:candidate_set[i].split('.')[0] for x in G_nx.nodes() if coloring[x]==i})\n",
    "  nx.draw_networkx_edges(G_nx,pos=layout,width=list(nx.get_edge_attributes(G_nx,'weight').values()))\n",
    "  nx.draw_networkx_edge_labels(G_nx,pos=layout,edge_labels=nx.get_edge_attributes(G_nx, \"weight\"))\n",
    "\n",
    "  plt.show()"
   ]
  },
  {
   "cell_type": "markdown",
   "metadata": {
    "id": "goIcA-sgKqzi"
   },
   "source": [
    "Train graph with different max_nodes"
   ]
  },
  {
   "cell_type": "code",
   "execution_count": null,
   "metadata": {
    "colab": {
     "base_uri": "https://localhost:8080/",
     "height": 1000
    },
    "id": "6vnCRE6kOjpQ",
    "outputId": "6671153b-eb57-4ba9-a980-28b93e4a73e1"
   },
   "outputs": [],
   "source": [
    "for i in range(1, 10):\n",
    "  g.reset_graph()\n",
    "  train_generator(c=1, initial_node=0, max_nodes=i)\n",
    "  to_display = generate_graph(c=1,max_nodes=i)\n",
    "  display_graph(to_display)\n",
    "  print(g.model(to_display['feat'],to_display['adj'],None))"
   ]
  },
  {
   "cell_type": "code",
   "execution_count": null,
   "metadata": {
    "id": "IgLhUBmYJYnf"
   },
   "outputs": [],
   "source": []
  }
 ],
 "metadata": {
  "colab": {
   "collapsed_sections": [],
   "name": "XGNN.ipynb",
   "provenance": []
  },
  "kernelspec": {
   "display_name": "Python 3",
   "language": "python",
   "name": "python3"
  },
  "language_info": {
   "codemirror_mode": {
    "name": "ipython",
    "version": 3
   },
   "file_extension": ".py",
   "mimetype": "text/x-python",
   "name": "python",
   "nbconvert_exporter": "python",
   "pygments_lexer": "ipython3",
   "version": "3.8.8"
  }
 },
 "nbformat": 4,
 "nbformat_minor": 1
}
